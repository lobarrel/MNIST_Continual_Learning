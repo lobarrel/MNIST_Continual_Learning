{
  "cells": [
    {
      "cell_type": "markdown",
      "metadata": {
        "id": "fp9hbokQIxWW"
      },
      "source": [
        "# Continual Learning Strategies on MNIST Benchmark\n",
        "\n",
        "We use the standard MNIST benchmark to evaluate different Continual Learning strategies using PyTorch."
      ]
    },
    {
      "cell_type": "code",
      "execution_count": null,
      "metadata": {
        "id": "w7AxhUWe68vT"
      },
      "outputs": [],
      "source": [
        "import torch\n",
        "import torch.nn as nn\n",
        "import torchvision.datasets as datasets\n",
        "import torchvision.transforms as transforms\n",
        "import torch.optim as optim\n",
        "import torch.nn.functional as F\n",
        "import numpy as np\n",
        "import matplotlib.pyplot as plt"
      ]
    },
    {
      "cell_type": "markdown",
      "metadata": {
        "id": "rv89m9nBPXSh"
      },
      "source": [
        "## MNIST: Digits recognition with PyTorch\n",
        "\n",
        "First let's build a classic model to recognize the ten handwritten digits from the 60.000, 28x28 grayscale images of MNIST."
      ]
    },
    {
      "cell_type": "code",
      "execution_count": null,
      "metadata": {
        "colab": {
          "base_uri": "https://localhost:8080/"
        },
        "id": "x3BFVukM_y8i",
        "outputId": "f49d5694-5333-4a58-acf5-3e096034b0e1"
      },
      "outputs": [],
      "source": [
        "from continualai.colab.scripts import mnist\n",
        "mnist.init()"
      ]
    },
    {
      "cell_type": "code",
      "execution_count": null,
      "metadata": {
        "colab": {
          "base_uri": "https://localhost:8080/"
        },
        "id": "6jIk6-G6AhWi",
        "outputId": "ac1c2637-c535-4d90-ad43-91cba65eae11"
      },
      "outputs": [
        {
          "name": "stdout",
          "output_type": "stream",
          "text": [
            "x_train dim and type:  (60000, 1, 28, 28) float32\n",
            "t_train dim and type:  (60000,) uint8\n",
            "x_test dim and type:  (10000, 1, 28, 28) float32\n",
            "t_test dim and type:  (10000,) uint8\n"
          ]
        }
      ],
      "source": [
        "x_train, t_train, x_test, t_test = mnist.load()\n",
        "\n",
        "print(\"x_train dim and type: \", x_train.shape, x_train.dtype)\n",
        "print(\"t_train dim and type: \", t_train.shape, t_train.dtype)\n",
        "print(\"x_test dim and type: \", x_test.shape, x_test.dtype)\n",
        "print(\"t_test dim and type: \", t_test.shape, t_test.dtype)"
      ]
    },
    {
      "cell_type": "markdown",
      "metadata": {
        "id": "XEWG2PmbVvb7"
      },
      "source": [
        "Let's take a look at the actual images."
      ]
    },
    {
      "cell_type": "code",
      "execution_count": null,
      "metadata": {
        "colab": {
          "base_uri": "https://localhost:8080/",
          "height": 406
        },
        "id": "RyIuYAw8AuO6",
        "outputId": "be15e1dd-4880-42b3-9964-640c289eddd8"
      },
      "outputs": [
        {
          "data": {
            "image/png": "[encoded data removed]",
            "text/plain": [
              "<Figure size 640x480 with 4 Axes>"
            ]
          },
          "metadata": {},
          "output_type": "display_data"
        }
      ],
      "source": [
        "f, axarr = plt.subplots(2,2)\n",
        "axarr[0,0].imshow(x_train[1, 0], cmap=\"gray\")\n",
        "axarr[0,1].imshow(x_train[2, 0], cmap=\"gray\")\n",
        "axarr[1,0].imshow(x_train[3, 0], cmap=\"gray\")\n",
        "axarr[1,1].imshow(x_train[4, 0], cmap=\"gray\")\n",
        "np.vectorize(lambda ax:ax.axis('off'))(axarr);"
      ]
    },
    {
      "cell_type": "markdown",
      "metadata": {
        "id": "baEsU4PGXsgS"
      },
      "source": [
        "Set up a few general setting before using torch."
      ]
    },
    {
      "cell_type": "code",
      "execution_count": null,
      "metadata": {
        "id": "ztZAPQNXZ4ll"
      },
      "outputs": [],
      "source": [
        "# switch to False to use CPU\n",
        "use_cuda = True\n",
        "\n",
        "use_cuda = use_cuda and torch.cuda.is_available()\n",
        "device = torch.device(\"cuda\" if use_cuda else \"cpu\");\n",
        "torch.manual_seed(1);"
      ]
    },
    {
      "cell_type": "markdown",
      "metadata": {
        "id": "0Ek0mErIac6n"
      },
      "source": [
        "Define a basic network with 3 layers of convolutions and two fully connected layers."
      ]
    },
    {
      "cell_type": "code",
      "execution_count": null,
      "metadata": {
        "id": "ONMdybG4Be0z"
      },
      "outputs": [],
      "source": [
        "class Net(nn.Module):\n",
        "    def __init__(self):\n",
        "        super(Net, self).__init__()\n",
        "        self.conv1 = nn.Conv2d(1, 10, kernel_size=5)\n",
        "        self.conv2 = nn.Conv2d(10, 20, kernel_size=5)\n",
        "        self.conv2_drop = nn.Dropout2d()\n",
        "        self.fc1 = nn.Linear(320, 50)\n",
        "        self.fc2 = nn.Linear(50, 10)\n",
        "\n",
        "    def forward(self, x):\n",
        "        # CONV 1:\n",
        "        # input_channels = 1, output_channels = 10\n",
        "        # size of each input channel = 28x28\n",
        "        # stride = 1, kernel_size = 5x5\n",
        "        # output size of each output channel: (28-5+1) x (28-5+1) = 24 x 24\n",
        "        # MAX POOL 1:\n",
        "        # stride = 2\n",
        "        # output size of each channel: 12x12\n",
        "        x = F.relu(F.max_pool2d(self.conv1(x), 2))\n",
        "        # CONV 2:\n",
        "        # input_channels = 10, output_channels = 20\n",
        "        # size of each input channel = 12x12\n",
        "        # stride = 1, kernel_size = 5x5\n",
        "        # output size of each output channel: (12-5+1) x (12-5+1) = 8 x 8\n",
        "        # MAX POOL 2:\n",
        "        # stride = 2x2\n",
        "        # output size of each channel: 4x4\n",
        "        x = F.relu(F.max_pool2d(self.conv2_drop(self.conv2(x)), 2))\n",
        "        x = x.view(-1, 320)\n",
        "        # (4x4) x 20 channels = 320\n",
        "        x = F.relu(self.fc1(x))\n",
        "        x = F.dropout(x, training=self.training)\n",
        "        x = self.fc2(x)\n",
        "        return x"
      ]
    },
    {
      "cell_type": "markdown",
      "metadata": {},
      "source": [
        "Define training and testing functions."
      ]
    },
    {
      "cell_type": "code",
      "execution_count": null,
      "metadata": {
        "id": "HGJJfXhJB-zk"
      },
      "outputs": [],
      "source": [
        "def train(model, device, x_train, t_train, optimizer, epoch):\n",
        "    model.train()\n",
        "\n",
        "    for start in range(0, len(t_train)-1, 256):\n",
        "      end = start + 256\n",
        "      x, y = torch.from_numpy(x_train[start:end]), torch.from_numpy(t_train[start:end]).long()\n",
        "      x, y = x.to(device), y.to(device)\n",
        "\n",
        "      optimizer.zero_grad()\n",
        "\n",
        "      output = model(x)\n",
        "      loss = F.cross_entropy(output, y)\n",
        "      loss.backward()\n",
        "      optimizer.step()\n",
        "      #print(loss.item())\n",
        "    print('Train Epoch: {} \\tLoss: {:.6f}'.format(epoch, loss.item()))\n",
        "\n",
        "def test(model, device, x_test, t_test):\n",
        "    model.eval()\n",
        "    test_loss = 0\n",
        "    correct = 0\n",
        "    for start in range(0, len(t_test)-1, 256):\n",
        "      end = start + 256\n",
        "      with torch.no_grad():\n",
        "        x, y = torch.from_numpy(x_test[start:end]), torch.from_numpy(t_test[start:end]).long()\n",
        "        x, y = x.to(device), y.to(device)\n",
        "        output = model(x)\n",
        "        test_loss += F.cross_entropy(output, y).item() # sum up batch loss\n",
        "        pred = output.max(1, keepdim=True)[1] # get the index of the max logit\n",
        "        correct += pred.eq(y.view_as(pred)).sum().item()\n",
        "\n",
        "    test_loss /= len(t_test)\n",
        "    print('Test set: Average loss: {:.4f}, Accuracy: {}/{} ({:.0f}%)\\n'.format(\n",
        "        test_loss, correct, len(t_test),\n",
        "        100. * correct / len(t_test)))\n",
        "    return 100. * correct / len(t_test)"
      ]
    },
    {
      "cell_type": "markdown",
      "metadata": {
        "id": "IxIISdDPaqb9"
      },
      "source": [
        "Instantiate our model and start the training!"
      ]
    },
    {
      "cell_type": "code",
      "execution_count": null,
      "metadata": {
        "colab": {
          "base_uri": "https://localhost:8080/"
        },
        "id": "BlhVt8vylpUv",
        "outputId": "5e0e9bee-e029-4afb-887c-46ca009aede6"
      },
      "outputs": [
        {
          "name": "stdout",
          "output_type": "stream",
          "text": [
            "Train Epoch: 1 \tLoss: 0.765683\n",
            "Test set: Average loss: 0.0013, Accuracy: 9020/10000 (90%)\n",
            "\n",
            "Train Epoch: 2 \tLoss: 0.481925\n",
            "Test set: Average loss: 0.0007, Accuracy: 9426/10000 (94%)\n",
            "\n"
          ]
        }
      ],
      "source": [
        "model = Net().to(device)\n",
        "optimizer = optim.SGD(model.parameters(), lr=0.01, momentum=0.9)\n",
        "\n",
        "for epoch in range(1, 3):\n",
        "  train(model, device, x_train, t_train, optimizer, epoch)\n",
        "  test(model, device, x_test, t_test)"
      ]
    },
    {
      "cell_type": "markdown",
      "metadata": {
        "id": "7qwh4T5Va86-"
      },
      "source": [
        "We got a 94% accuracy, but what if now we want we the same model being able to solve a new task we encounter over time like a permuted version of the same MNIST? Let's define our custom function to permute it."
      ]
    },
    {
      "cell_type": "code",
      "execution_count": null,
      "metadata": {
        "id": "6Xq_4UvjgXPQ"
      },
      "outputs": [],
      "source": [
        "def permute_mnist(mnist, seed):\n",
        "    \"\"\" Given the training set, permute pixels of each img the same way. \"\"\"\n",
        "\n",
        "    np.random.seed(seed)\n",
        "    h = w = 28\n",
        "    perm_inds = list(range(h*w))\n",
        "    np.random.shuffle(perm_inds)\n",
        "    # print(perm_inds)\n",
        "    perm_mnist = []\n",
        "    for set in mnist:\n",
        "        num_img = set.shape[0]\n",
        "        flat_set = set.reshape(num_img, w * h)\n",
        "        perm_mnist.append(flat_set[:, perm_inds].reshape(num_img, 1, w, h))\n",
        "    return perm_mnist"
      ]
    },
    {
      "cell_type": "code",
      "execution_count": null,
      "metadata": {
        "colab": {
          "base_uri": "https://localhost:8080/"
        },
        "id": "4xG5LFwLgkpu",
        "outputId": "fdc0fbf4-aabb-4499-b64a-11e2933e64c3"
      },
      "outputs": [],
      "source": [
        "x_train2, x_test2 = permute_mnist([x_train, x_test], 0)"
      ]
    },
    {
      "cell_type": "code",
      "execution_count": null,
      "metadata": {
        "colab": {
          "base_uri": "https://localhost:8080/",
          "height": 262
        },
        "id": "LYBa_Gedh_do",
        "outputId": "40a4dbd0-a0fe-48af-eb7c-38be33c2f535"
      },
      "outputs": [
        {
          "data": {
            "image/png": "[encoded data removed]",
            "text/plain": [
              "<Figure size 640x480 with 2 Axes>"
            ]
          },
          "metadata": {},
          "output_type": "display_data"
        }
      ],
      "source": [
        "f, axarr = plt.subplots(1,2)\n",
        "axarr[0].imshow(x_train[1, 0], cmap=\"gray\")\n",
        "axarr[1].imshow(x_train2[2, 0], cmap=\"gray\")\n",
        "np.vectorize(lambda ax:ax.axis('off'))(axarr);"
      ]
    },
    {
      "cell_type": "markdown",
      "metadata": {
        "id": "46wHcbNAchH-"
      },
      "source": [
        "Now let's see how our pre-trained model is working on both the original and the permuted MNIST dataset:"
      ]
    },
    {
      "cell_type": "code",
      "execution_count": null,
      "metadata": {
        "colab": {
          "base_uri": "https://localhost:8080/"
        },
        "id": "Sxusb8s3itli",
        "outputId": "5a2d2d16-f129-40fc-c48a-6a5344b516d3"
      },
      "outputs": [
        {
          "name": "stdout",
          "output_type": "stream",
          "text": [
            "Testing on the first task:\n",
            "Test set: Average loss: 0.0007, Accuracy: 9426/10000 (94%)\n",
            "\n",
            "Testing on the second task:\n",
            "Test set: Average loss: 0.0108, Accuracy: 1034/10000 (10%)\n",
            "\n"
          ]
        }
      ],
      "source": [
        "print(\"Testing on the first task:\")\n",
        "test(model, device, x_test, t_test)\n",
        "\n",
        "print(\"Testing on the second task:\")\n",
        "test(model, device, x_test2, t_test);"
      ]
    },
    {
      "cell_type": "markdown",
      "metadata": {
        "id": "0pHMg4G_dHFY"
      },
      "source": [
        "As we can see, our model cannot generalize to this apparently very different new task. So we can just finetune our model using the new permuted training set, but then it will not be able to solve the original MNIST task anymore. This phenomenon is known as **Catastrophic Forgetting**"
      ]
    },
    {
      "cell_type": "code",
      "execution_count": null,
      "metadata": {
        "colab": {
          "base_uri": "https://localhost:8080/"
        },
        "id": "J5PtR8Gqib00",
        "outputId": "b9f1795d-1a24-495a-be4e-ba3345aed7ae"
      },
      "outputs": [
        {
          "name": "stdout",
          "output_type": "stream",
          "text": [
            "Train Epoch: 1 \tLoss: 1.448701\n",
            "Test set: Average loss: 0.0032, Accuracy: 7404/10000 (74%)\n",
            "\n",
            "Train Epoch: 2 \tLoss: 1.176130\n",
            "Test set: Average loss: 0.0022, Accuracy: 8292/10000 (83%)\n",
            "\n"
          ]
        }
      ],
      "source": [
        "for epoch in range(1, 3):\n",
        "  train(model, device, x_train2, t_train, optimizer, epoch)\n",
        "  test(model, device, x_test2, t_test)"
      ]
    },
    {
      "cell_type": "code",
      "execution_count": null,
      "metadata": {
        "colab": {
          "base_uri": "https://localhost:8080/"
        },
        "id": "ML7Evzb9jPAZ",
        "outputId": "61fb5cde-596c-42e1-ae2e-ffbc9f3b6394"
      },
      "outputs": [
        {
          "name": "stdout",
          "output_type": "stream",
          "text": [
            "Testing on the first task:\n",
            "Test set: Average loss: 0.0208, Accuracy: 2391/10000 (24%)\n",
            "\n",
            "Testing on the second task:\n",
            "Test set: Average loss: 0.0022, Accuracy: 8292/10000 (83%)\n",
            "\n"
          ]
        }
      ],
      "source": [
        "print(\"Testing on the first task:\")\n",
        "test(model, device, x_test, t_test)\n",
        "\n",
        "print(\"Testing on the second task:\")\n",
        "test(model, device, x_test2, t_test);"
      ]
    },
    {
      "cell_type": "markdown",
      "metadata": {
        "id": "9rUgLpUakTy6"
      },
      "source": [
        "## Continual Learning Strategies\n",
        "\n",
        "Now let's focus on some strategies for reducing catastrofic forgetting, one of the principal problems when learning continuously. We will compare the following different strategies:\n",
        "\n",
        "1.   Naive (Base Strategy)\n",
        "1.   Cumulative \n",
        "3.   Random Replay\n",
        "2.   Elastic Weight Consolidation (EWC)\n",
        "\n",
        "We will run the model on a 3-tasks Permuted MNIST and finally will plot the results for comparison.\n",
        "\n",
        "Let's start by defining our 3 tasks with the function we have already introduced before:\n",
        "\n"
      ]
    },
    {
      "cell_type": "code",
      "execution_count": null,
      "metadata": {
        "colab": {
          "base_uri": "https://localhost:8080/"
        },
        "id": "Yu0T_V24joGY",
        "outputId": "662f10e5-0889-4c07-cca2-dc22e2c5878c"
      },
      "outputs": [],
      "source": [
        "# task 1\n",
        "task_1 = [(x_train, t_train), (x_test, t_test)]\n",
        "\n",
        "# task 2\n",
        "x_train2, x_test2 = permute_mnist([x_train, x_test], 1)\n",
        "task_2 = [(x_train2, t_train), (x_test2, t_test)]\n",
        "\n",
        "# task 3\n",
        "x_train3, x_test3 = permute_mnist([x_train, x_test], 2)\n",
        "task_3 = [(x_train3, t_train), (x_test3, t_test)]\n",
        "\n",
        "# task list\n",
        "tasks = [task_1, task_2, task_3]"
      ]
    },
    {
      "cell_type": "code",
      "execution_count": null,
      "metadata": {
        "id": "-g_DyrRGoIgl"
      },
      "outputs": [],
      "source": [
        "accs_table = {}\n",
        "accs_table_random_model = {}"
      ]
    },
    {
      "cell_type": "markdown",
      "metadata": {
        "id": "yUNaukXyiJni"
      },
      "source": [
        "### Naive Strategy (Base strategy)\n",
        "\n",
        "The  Naive Strategy is the simple idea of continuing the backpropagation process on the new tasks. This is very simple, but at the same time very prone to forgetting as we have witnessed before. Let's how it works on three tasks:"
      ]
    },
    {
      "cell_type": "code",
      "execution_count": null,
      "metadata": {
        "id": "gzFEA5F8pI_O"
      },
      "outputs": [],
      "source": [
        "model = Net().to(device)\n",
        "optimizer = optim.SGD(model.parameters(), lr=0.01, momentum=0.9)"
      ]
    },
    {
      "cell_type": "code",
      "execution_count": null,
      "metadata": {
        "colab": {
          "base_uri": "https://localhost:8080/"
        },
        "id": "W8wB76EWpvoj",
        "outputId": "d9e3d457-957f-496d-ea15-1813c4f73cfa"
      },
      "outputs": [
        {
          "name": "stdout",
          "output_type": "stream",
          "text": [
            "Testing on task:  1\n",
            "Test set: Average loss: 0.0092, Accuracy: 924/10000 (9%)\n",
            "\n",
            "Testing on task:  2\n",
            "Test set: Average loss: 0.0092, Accuracy: 656/10000 (7%)\n",
            "\n",
            "Testing on task:  3\n",
            "Test set: Average loss: 0.0092, Accuracy: 1197/10000 (12%)\n",
            "\n"
          ]
        }
      ],
      "source": [
        "# random model for fwt\n",
        "accs_table_random_model[\"Naive\"] = []\n",
        "for id_test, task in enumerate(tasks):\n",
        "  print(\"Testing on task: \", id_test+1)\n",
        "  _, (x_test, t_test) = task\n",
        "  acc = test(model, device, x_test, t_test)\n",
        "  accs_table_random_model[\"Naive\"].append(acc)"
      ]
    },
    {
      "cell_type": "code",
      "execution_count": null,
      "metadata": {
        "colab": {
          "base_uri": "https://localhost:8080/"
        },
        "id": "dLU6KdIbnLMN",
        "outputId": "d62a518a-8bc5-41d6-8311-d30edf3bf0cd"
      },
      "outputs": [
        {
          "name": "stdout",
          "output_type": "stream",
          "text": [
            "TRAINING on task:  1\n",
            "Train Epoch: 1 \tLoss: 0.659498\n",
            "Train Epoch: 2 \tLoss: 0.540133\n",
            "\n",
            "Testing on task:  1\n",
            "Test set: Average loss: 0.0007, Accuracy: 9485/10000 (95%)\n",
            "\n",
            "Testing on task:  2\n",
            "Test set: Average loss: 0.0113, Accuracy: 675/10000 (7%)\n",
            "\n",
            "Testing on task:  3\n",
            "Test set: Average loss: 0.0098, Accuracy: 1385/10000 (14%)\n",
            "\n",
            "Avg acc:  38.48333333333333\n",
            "\n",
            "TRAINING on task:  2\n",
            "Train Epoch: 1 \tLoss: 1.845170\n",
            "Train Epoch: 2 \tLoss: 1.262561\n",
            "\n",
            "Testing on task:  1\n",
            "Test set: Average loss: 0.0176, Accuracy: 2031/10000 (20%)\n",
            "\n",
            "Testing on task:  2\n",
            "Test set: Average loss: 0.0030, Accuracy: 7757/10000 (78%)\n",
            "\n",
            "Testing on task:  3\n",
            "Test set: Average loss: 0.0124, Accuracy: 1177/10000 (12%)\n",
            "\n",
            "Avg acc:  36.55\n",
            "\n",
            "TRAINING on task:  3\n",
            "Train Epoch: 1 \tLoss: 1.251475\n",
            "Train Epoch: 2 \tLoss: 1.200687\n",
            "\n",
            "Testing on task:  1\n",
            "Test set: Average loss: 0.0202, Accuracy: 2258/10000 (23%)\n",
            "\n",
            "Testing on task:  2\n",
            "Test set: Average loss: 0.0080, Accuracy: 2843/10000 (28%)\n",
            "\n",
            "Testing on task:  3\n",
            "Test set: Average loss: 0.0023, Accuracy: 8305/10000 (83%)\n",
            "\n",
            "Avg acc:  44.68666666666667\n",
            "\n"
          ]
        }
      ],
      "source": [
        "naive_accs = []\n",
        "accs_table[\"Naive\"] = []\n",
        "\n",
        "for id, task in enumerate(tasks):\n",
        "  avg_acc = 0\n",
        "  print(\"TRAINING on task: \", id+1)\n",
        "  accs_table[\"Naive\"].append([])\n",
        "\n",
        "  (x_train, t_train), _ = task\n",
        "\n",
        "  for epoch in range(1, 3):\n",
        "    train(model, device, x_train, t_train, optimizer, epoch)\n",
        "\n",
        "  print()\n",
        "  for id_test, task in enumerate(tasks):\n",
        "    print(\"Testing on task: \", id_test+1)\n",
        "    _, (x_test, t_test) = task\n",
        "    acc = test(model, device, x_test, t_test)\n",
        "    accs_table[\"Naive\"][-1].append(acc)\n",
        "    avg_acc = avg_acc + acc\n",
        "\n",
        "  naive_accs.append(avg_acc / 3)\n",
        "  print(\"Avg acc: \", avg_acc / 3)\n",
        "  print()\n"
      ]
    },
    {
      "cell_type": "markdown",
      "metadata": {
        "id": "lCK0EYT-pJa8"
      },
      "source": [
        "### Cumulative Strategy\n",
        "\n",
        "Another simple idea is to carry on all or part of the previous tasks, shuffling them with the data of the current task. Using all the past data is near to the optimal performance we can desire at the end of the task sequence but at the expense of much bigger memory usage.\n",
        "\n",
        "Let's start by defining a function to shuffle our data:"
      ]
    },
    {
      "cell_type": "code",
      "execution_count": null,
      "metadata": {
        "id": "FdWpT2jhfu3o"
      },
      "outputs": [],
      "source": [
        "def shuffle_in_unison(dataset, seed, in_place=False):\n",
        "    \"\"\" Shuffle two (or more) list in unison. \"\"\"\n",
        "\n",
        "    np.random.seed(seed)\n",
        "    rng_state = np.random.get_state()\n",
        "    new_dataset = []\n",
        "    for x in dataset:\n",
        "        if in_place:\n",
        "            np.random.shuffle(x)\n",
        "        else:\n",
        "            new_dataset.append(np.random.permutation(x))\n",
        "        np.random.set_state(rng_state)\n",
        "\n",
        "    if not in_place:\n",
        "        return new_dataset"
      ]
    },
    {
      "cell_type": "markdown",
      "metadata": {
        "id": "94hg1UrtqFmT"
      },
      "source": [
        "Now we can reset the model and optimizer and run our training over the tasks sequence:"
      ]
    },
    {
      "cell_type": "code",
      "execution_count": null,
      "metadata": {
        "id": "62TY0Ajgbsgk"
      },
      "outputs": [],
      "source": [
        "model = Net().to(device)\n",
        "optimizer = optim.SGD(model.parameters(), lr=0.01, momentum=0.9)"
      ]
    },
    {
      "cell_type": "code",
      "execution_count": null,
      "metadata": {
        "colab": {
          "base_uri": "https://localhost:8080/"
        },
        "id": "1pYQapUSqNfK",
        "outputId": "bfc532a3-8f92-4e47-fc39-daee7a9e7de5"
      },
      "outputs": [
        {
          "name": "stdout",
          "output_type": "stream",
          "text": [
            "Testing on task:  1\n",
            "Test set: Average loss: 0.0092, Accuracy: 1032/10000 (10%)\n",
            "\n",
            "Testing on task:  2\n",
            "Test set: Average loss: 0.0092, Accuracy: 1032/10000 (10%)\n",
            "\n",
            "Testing on task:  3\n",
            "Test set: Average loss: 0.0092, Accuracy: 1032/10000 (10%)\n",
            "\n"
          ]
        }
      ],
      "source": [
        "accs_table_random_model[\"Cumulative\"] = []\n",
        "for id_test, task in enumerate(tasks):\n",
        "  print(\"Testing on task: \", id_test+1)\n",
        "  _, (x_test, t_test) = task\n",
        "  acc = test(model, device, x_test, t_test)\n",
        "  accs_table_random_model[\"Cumulative\"].append(acc)"
      ]
    },
    {
      "cell_type": "code",
      "execution_count": null,
      "metadata": {
        "colab": {
          "base_uri": "https://localhost:8080/"
        },
        "id": "y_No-qvDbuZi",
        "outputId": "ab69480d-e0b5-47ed-9d16-bdb1458d2836"
      },
      "outputs": [
        {
          "name": "stdout",
          "output_type": "stream",
          "text": [
            "TRAINING on task:  1\n",
            "Train Epoch: 1 \tLoss: 0.602858\n",
            "Train Epoch: 2 \tLoss: 0.259049\n",
            "\n",
            "Testing on task:  1\n",
            "Test set: Average loss: 0.0007, Accuracy: 9461/10000 (95%)\n",
            "\n",
            "Testing on task:  2\n",
            "Test set: Average loss: 0.0114, Accuracy: 610/10000 (6%)\n",
            "\n",
            "Testing on task:  3\n",
            "Test set: Average loss: 0.0097, Accuracy: 1314/10000 (13%)\n",
            "\n",
            "Avg acc:  37.949999999999996\n",
            "\n",
            "TRAINING on task:  2\n",
            "Train Epoch: 1 \tLoss: 0.802614\n",
            "Train Epoch: 2 \tLoss: 0.600242\n",
            "\n",
            "Testing on task:  1\n",
            "Test set: Average loss: 0.0005, Accuracy: 9622/10000 (96%)\n",
            "\n",
            "Testing on task:  2\n",
            "Test set: Average loss: 0.0021, Accuracy: 8539/10000 (85%)\n",
            "\n",
            "Testing on task:  3\n",
            "Test set: Average loss: 0.0107, Accuracy: 1332/10000 (13%)\n",
            "\n",
            "Avg acc:  64.97666666666667\n",
            "\n",
            "TRAINING on task:  3\n",
            "Train Epoch: 1 \tLoss: 0.306301\n",
            "Train Epoch: 2 \tLoss: 0.492935\n",
            "\n",
            "Testing on task:  1\n",
            "Test set: Average loss: 0.0005, Accuracy: 9613/10000 (96%)\n",
            "\n",
            "Testing on task:  2\n",
            "Test set: Average loss: 0.0016, Accuracy: 8827/10000 (88%)\n",
            "\n",
            "Testing on task:  3\n",
            "Test set: Average loss: 0.0019, Accuracy: 8675/10000 (87%)\n",
            "\n",
            "Avg acc:  90.38333333333333\n",
            "\n"
          ]
        }
      ],
      "source": [
        "cum_accs = []\n",
        "accs_table[\"Cumulative\"] = []\n",
        "for id, task in enumerate(tasks):\n",
        "  avg_acc = 0\n",
        "  print(\"TRAINING on task: \", id+1)\n",
        "  accs_table[\"Cumulative\"].append([])\n",
        "\n",
        "  (x_train, t_train), _ = task\n",
        "\n",
        "  # for previous task\n",
        "  for i in range(id):\n",
        "    (past_x_train, past_t_train), _ = tasks[i]\n",
        "    x_train = np.concatenate((x_train, past_x_train))\n",
        "    t_train = np.concatenate((t_train, past_t_train))\n",
        "\n",
        "  x_train, t_train = shuffle_in_unison([x_train, t_train], 0)\n",
        "\n",
        "  for epoch in range(1, 3):\n",
        "    train(model, device, x_train, t_train, optimizer, epoch)\n",
        "\n",
        "  print()\n",
        "  for id_test, task in enumerate(tasks):\n",
        "    print(\"Testing on task: \", id_test+1)\n",
        "    _, (x_test, t_test) = task\n",
        "    acc = test(model, device, x_test, t_test)\n",
        "    accs_table[\"Cumulative\"][-1].append(acc)\n",
        "    avg_acc = avg_acc + acc\n",
        "\n",
        "  print(\"Avg acc: \", avg_acc / 3)\n",
        "  print()\n",
        "  cum_accs.append(avg_acc/3)"
      ]
    },
    {
      "cell_type": "markdown",
      "metadata": {
        "id": "nqVjtNddf3rF"
      },
      "source": [
        "### Random Replay strategy\n",
        "\n",
        "Random Replay is a Continual Learning strategy that uses a fixed-size Random Memory (RM) to store a subset of random previous experiences' data points. During the training on the i-th experience, it trains the model on the i-th training set shuffled with a fixed-size Random Memory (RM). RM contains a random subset of the data points of the previous experiences' training sets. After the training, it randomly substitutes some data points with a random subset of the current experience's training set in RM. This way, RM will be updated for the next experience and maintain an approximately equal number of examples for each experience."
      ]
    },
    {
      "cell_type": "code",
      "execution_count": null,
      "metadata": {
        "colab": {
          "base_uri": "https://localhost:8080/"
        },
        "id": "UuEtB3GHDdig",
        "outputId": "07834b12-c100-4486-9b4a-e4ea2ccd3ae3"
      },
      "outputs": [
        {
          "data": {
            "text/plain": [
              "(1, 28, 28)"
            ]
          },
          "execution_count": 28,
          "metadata": {},
          "output_type": "execute_result"
        }
      ],
      "source": [
        "x_train.shape[1:]"
      ]
    },
    {
      "cell_type": "code",
      "execution_count": null,
      "metadata": {
        "id": "grMCcu0uf70H"
      },
      "outputs": [],
      "source": [
        "# Function to compute the Random Memory\n",
        "def compute_rm(X_train, y_train, rm_size, id_task, X_rm_old, y_rm_old):\n",
        "  np.random.seed(42)\n",
        "\n",
        "  h = int(rm_size / (id_task+1))\n",
        "  # Generate h random indices for sampling\n",
        "  random_indices = np.random.choice(rm_size, h, replace=False)\n",
        "\n",
        "  # Shuffle train dataset otherwise random indices will consider only the first rm_size elements of X_train and y_train\n",
        "  shuffled_index = np.random.permutation(len(X_train))\n",
        "  X_shuffled = X_train[shuffled_index]\n",
        "  y_shuffled = y_train[shuffled_index]\n",
        "\n",
        "  # Handle initial case of empty RM - initialize with random numbers\n",
        "  if X_rm_old.size == 0:\n",
        "    X_rm_old = np.empty(\n",
        "        (rm_size,\n",
        "         X_train.shape[1],\n",
        "         X_train.shape[2],\n",
        "         X_train.shape[3]\n",
        "    ), dtype=np.float32)\n",
        "    y_rm_old = np.empty((rm_size, ))\n",
        "\n",
        "  # Substitute h values of old RM with h values of current training set\n",
        "  X_rm_new = X_rm_old\n",
        "  y_rm_new = y_rm_old\n",
        "  for idx in random_indices:\n",
        "    X_rm_new[idx] = X_shuffled[idx]\n",
        "    y_rm_new[idx] = y_shuffled[idx]\n",
        "\n",
        "  return X_rm_new, y_rm_new\n",
        "\n",
        "\n",
        "# Concatenate and shuffle training data with Random Memory\n",
        "def concat_shuffle_rm(X_data, y_data, X_rm_data, y_rm_data):\n",
        "  # Handle case of first experience\n",
        "  if X_rm_data.size == 0:\n",
        "    return X_data, y_data\n",
        "\n",
        "  X_concat = np.concatenate((X_data, X_rm_data), axis=0)\n",
        "  y_concat = np.concatenate((y_data, y_rm_data), axis=0)\n",
        "\n",
        "  np.random.seed(42)\n",
        "  shuffled_index = np.random.permutation(len(X_concat))\n",
        "  # Shuffle X and y using the shuffled index\n",
        "  X_new = X_concat[shuffled_index]\n",
        "  y_new = y_concat[shuffled_index]\n",
        "\n",
        "  return X_new, y_new\n"
      ]
    },
    {
      "cell_type": "markdown",
      "metadata": {
        "id": "IKSb2BAQB_KX"
      },
      "source": [
        "Let's set the random memory size to 20% of each experience's train set."
      ]
    },
    {
      "cell_type": "code",
      "execution_count": null,
      "metadata": {
        "id": "gt6nLWNIBZiV"
      },
      "outputs": [],
      "source": [
        "(x_train, _), _ = tasks[0]\n",
        "rm_size = int(0.2*x_train.shape[0])"
      ]
    },
    {
      "cell_type": "code",
      "execution_count": null,
      "metadata": {
        "id": "VQPi8CHajitw"
      },
      "outputs": [],
      "source": [
        "model = Net().to(device)\n",
        "optimizer = optim.SGD(model.parameters(), lr=0.01, momentum=0.9)"
      ]
    },
    {
      "cell_type": "code",
      "execution_count": null,
      "metadata": {
        "colab": {
          "base_uri": "https://localhost:8080/"
        },
        "id": "1n3vUDYS9pag",
        "outputId": "d2b270a0-742e-4403-a782-179b0a82bc05"
      },
      "outputs": [
        {
          "name": "stdout",
          "output_type": "stream",
          "text": [
            "Testing on task:  1\n",
            "Test set: Average loss: 0.0092, Accuracy: 1024/10000 (10%)\n",
            "\n",
            "Testing on task:  2\n",
            "Test set: Average loss: 0.0092, Accuracy: 1028/10000 (10%)\n",
            "\n",
            "Testing on task:  3\n",
            "Test set: Average loss: 0.0092, Accuracy: 1029/10000 (10%)\n",
            "\n"
          ]
        }
      ],
      "source": [
        "accs_table_random_model[\"Replay\"] = []\n",
        "for id_test, task in enumerate(tasks):\n",
        "  print(\"Testing on task: \", id_test+1)\n",
        "  _, (x_test, t_test) = task\n",
        "  acc = test(model, device, x_test, t_test)\n",
        "  accs_table_random_model[\"Replay\"].append(acc)"
      ]
    },
    {
      "cell_type": "code",
      "execution_count": null,
      "metadata": {
        "colab": {
          "base_uri": "https://localhost:8080/"
        },
        "id": "iLf0-GNtgyLM",
        "outputId": "7adb2556-9d39-4930-8a40-dd1e87ee1b35"
      },
      "outputs": [
        {
          "name": "stdout",
          "output_type": "stream",
          "text": [
            "TRAINING on task:  1\n",
            "Dataset size:  (60000, 1, 28, 28) (60000,)\n",
            "Train Epoch: 1 \tLoss: 0.671872\n",
            "Train Epoch: 2 \tLoss: 0.447127\n",
            "\n",
            "Testing on task:  1\n",
            "Test set: Average loss: 0.0007, Accuracy: 9423/10000 (94%)\n",
            "\n",
            "Testing on task:  2\n",
            "Test set: Average loss: 0.0115, Accuracy: 634/10000 (6%)\n",
            "\n",
            "Testing on task:  3\n",
            "Test set: Average loss: 0.0095, Accuracy: 1211/10000 (12%)\n",
            "\n",
            "Average accuracy:  37.56\n",
            "\n",
            "TRAINING on task:  2\n",
            "Dataset size:  (72000, 1, 28, 28) (72000,)\n",
            "Train Epoch: 1 \tLoss: 1.018835\n",
            "Train Epoch: 2 \tLoss: 1.008889\n",
            "\n",
            "Testing on task:  1\n",
            "Test set: Average loss: 0.0010, Accuracy: 9304/10000 (93%)\n",
            "\n",
            "Testing on task:  2\n",
            "Test set: Average loss: 0.0022, Accuracy: 8416/10000 (84%)\n",
            "\n",
            "Testing on task:  3\n",
            "Test set: Average loss: 0.0113, Accuracy: 1025/10000 (10%)\n",
            "\n",
            "Average accuracy:  62.48333333333333\n",
            "\n",
            "TRAINING on task:  3\n",
            "Dataset size:  (72000, 1, 28, 28) (72000,)\n",
            "Train Epoch: 1 \tLoss: 1.092075\n",
            "Train Epoch: 2 \tLoss: 0.854106\n",
            "\n",
            "Testing on task:  1\n",
            "Test set: Average loss: 0.0012, Accuracy: 9181/10000 (92%)\n",
            "\n",
            "Testing on task:  2\n",
            "Test set: Average loss: 0.0036, Accuracy: 7079/10000 (71%)\n",
            "\n",
            "Testing on task:  3\n",
            "Test set: Average loss: 0.0019, Accuracy: 8595/10000 (86%)\n",
            "\n",
            "Average accuracy:  82.85000000000001\n",
            "\n"
          ]
        }
      ],
      "source": [
        "repl_accs = []\n",
        "accs_table[\"Replay\"] = []\n",
        "\n",
        "# Initialize Random Memory\n",
        "X_rm = np.array([])\n",
        "y_rm = np.array([])\n",
        "\n",
        "# Training on i-th task using data from i-th experience shuffled with RM\n",
        "for id, task in enumerate(tasks):\n",
        "  avg_acc = 0\n",
        "  print(\"TRAINING on task: \", id+1)\n",
        "  accs_table[\"Replay\"].append([])\n",
        "\n",
        "  (x_train, y_train), _ = task\n",
        "\n",
        "  x_train_replay, y_train_replay = concat_shuffle_rm(x_train, y_train, X_rm, y_rm)\n",
        "  print(\"Dataset size: \", x_train_replay.shape, y_train_replay.shape)\n",
        "  for epoch in range(1, 3):\n",
        "    train(model, device, x_train_replay, y_train_replay, optimizer, epoch)\n",
        "\n",
        "  # Update RM after training on i-th experience\n",
        "  X_rm, y_rm = compute_rm(x_train, y_train, rm_size, id, X_rm, y_rm)\n",
        "\n",
        "  # Testing on all tasks\n",
        "  print()\n",
        "  for id_test, task in enumerate(tasks):\n",
        "    print(\"Testing on task: \", id_test+1)\n",
        "    _, (x_test, t_test) = task\n",
        "    acc = test(model, device, x_test, t_test)\n",
        "    accs_table[\"Replay\"][-1].append(acc)\n",
        "    avg_acc = avg_acc + acc\n",
        "\n",
        "  repl_accs.append(avg_acc / len(tasks))\n",
        "  print(\"Average accuracy: \", avg_acc / len(tasks))\n",
        "  print()"
      ]
    },
    {
      "cell_type": "markdown",
      "metadata": {
        "id": "AqofPHt01Zog"
      },
      "source": [
        "### Elastic Weights Consolidation (EWC) Strategy\n",
        "\n",
        "Elastic Weights Consolidation (EWC) is a common Continual Learning strategy based on the computation of the importance of each weight (fisher information) and a squared regularization loss, penalizing changes in the most important wheights for the previous tasks.\n",
        "\n",
        "It has the great advantage of not using any of the previous tasks data!"
      ]
    },
    {
      "cell_type": "code",
      "execution_count": null,
      "metadata": {
        "id": "e9iry5W56xtO"
      },
      "outputs": [],
      "source": [
        "fisher_dict = {}\n",
        "optpar_dict = {}\n",
        "ewc_lambda = 0.4"
      ]
    },
    {
      "cell_type": "code",
      "execution_count": null,
      "metadata": {
        "id": "0ZlyqcICEps_"
      },
      "outputs": [],
      "source": [
        "model = Net().to(device)\n",
        "optimizer = optim.SGD(model.parameters(), lr=0.009, momentum=0.9)"
      ]
    },
    {
      "cell_type": "markdown",
      "metadata": {
        "id": "Clm_QFF12mO9"
      },
      "source": [
        "Now we need to define an additional function to compute the fisher information for each weight at the end of each task:"
      ]
    },
    {
      "cell_type": "code",
      "execution_count": null,
      "metadata": {
        "colab": {
          "base_uri": "https://localhost:8080/"
        },
        "id": "Gt8WFMsrqW0T",
        "outputId": "af9875ce-b175-47e8-f33c-007969fe2255"
      },
      "outputs": [
        {
          "name": "stdout",
          "output_type": "stream",
          "text": [
            "Testing on task:  1\n",
            "Test set: Average loss: 0.0092, Accuracy: 874/10000 (9%)\n",
            "\n",
            "Testing on task:  2\n",
            "Test set: Average loss: 0.0092, Accuracy: 1004/10000 (10%)\n",
            "\n",
            "Testing on task:  3\n",
            "Test set: Average loss: 0.0092, Accuracy: 1117/10000 (11%)\n",
            "\n"
          ]
        }
      ],
      "source": [
        "accs_table_random_model[\"EWC\"] = []\n",
        "for id_test, task in enumerate(tasks):\n",
        "  print(\"Testing on task: \", id_test+1)\n",
        "  _, (x_test, t_test) = task\n",
        "  acc = test(model, device, x_test, t_test)\n",
        "  accs_table_random_model[\"EWC\"].append(acc)"
      ]
    },
    {
      "cell_type": "code",
      "execution_count": null,
      "metadata": {
        "id": "iEmBNkaO1Ykq"
      },
      "outputs": [],
      "source": [
        "def on_task_update(task_id, x_mem, t_mem):\n",
        "\n",
        "  model.train()\n",
        "  optimizer.zero_grad()\n",
        "\n",
        "  # accumulating gradients\n",
        "  for start in range(0, len(t_mem)-1, 256):\n",
        "      end = start + 256\n",
        "      x, y = torch.from_numpy(x_mem[start:end]), torch.from_numpy(t_mem[start:end]).long()\n",
        "      x, y = x.to(device), y.to(device)\n",
        "      output = model(x)\n",
        "      loss = F.cross_entropy(output, y)\n",
        "      loss.backward()\n",
        "\n",
        "  fisher_dict[task_id] = {}\n",
        "  optpar_dict[task_id] = {}\n",
        "\n",
        "  # gradients accumulated can be used to calculate fisher\n",
        "  for name, param in model.named_parameters():\n",
        "\n",
        "    optpar_dict[task_id][name] = param.data.clone()\n",
        "    fisher_dict[task_id][name] = param.grad.data.clone().pow(2)"
      ]
    },
    {
      "cell_type": "markdown",
      "metadata": {
        "id": "2hGp0Qsf2wa-"
      },
      "source": [
        "We need also to modify our *train* function to add the new regularization loss:"
      ]
    },
    {
      "cell_type": "code",
      "execution_count": null,
      "metadata": {
        "id": "IorTFus1Gs5H"
      },
      "outputs": [],
      "source": [
        "def train_ewc(model, device, task_id, x_train, t_train, optimizer, epoch):\n",
        "    model.train()\n",
        "\n",
        "    for start in range(0, len(t_train)-1, 256):\n",
        "      end = start + 256\n",
        "      x, y = torch.from_numpy(x_train[start:end]), torch.from_numpy(t_train[start:end]).long()\n",
        "      x, y = x.to(device), y.to(device)\n",
        "\n",
        "      optimizer.zero_grad()\n",
        "\n",
        "      output = model(x)\n",
        "      loss = F.cross_entropy(output, y)\n",
        "\n",
        "      ### magic here! :-)\n",
        "      for task in range(task_id):\n",
        "        for name, param in model.named_parameters():\n",
        "          fisher = fisher_dict[task][name]\n",
        "          optpar = optpar_dict[task][name]\n",
        "          loss += (fisher * (optpar - param).pow(2)).sum() * ewc_lambda\n",
        "\n",
        "      loss.backward()\n",
        "      optimizer.step()\n",
        "      #print(loss.item())\n",
        "    print('Train Epoch: {} \\tLoss: {:.6f}'.format(epoch, loss.item()))"
      ]
    },
    {
      "cell_type": "markdown",
      "metadata": {
        "id": "u754qi423EEc"
      },
      "source": [
        "Finally we can run the train over the three tasks sequence of the Permuted MNIST:"
      ]
    },
    {
      "cell_type": "code",
      "execution_count": null,
      "metadata": {
        "colab": {
          "base_uri": "https://localhost:8080/"
        },
        "id": "IkUCo4C6-QpT",
        "outputId": "371e2cb1-61f0-40be-d513-75ae924d25d2"
      },
      "outputs": [
        {
          "name": "stdout",
          "output_type": "stream",
          "text": [
            "TRAINING on task:  1\n",
            "Train Epoch: 1 \tLoss: 0.797689\n",
            "Train Epoch: 2 \tLoss: 0.633510\n",
            "\n",
            "Testing on task:  1\n",
            "Test set: Average loss: 0.0008, Accuracy: 9354/10000 (94%)\n",
            "\n",
            "Testing on task:  2\n",
            "Test set: Average loss: 0.0117, Accuracy: 648/10000 (6%)\n",
            "\n",
            "Testing on task:  3\n",
            "Test set: Average loss: 0.0101, Accuracy: 1034/10000 (10%)\n",
            "\n",
            "Avg acc:  36.78666666666667\n",
            "\n",
            "TRAINING on task:  2\n",
            "Train Epoch: 1 \tLoss: 1.986858\n",
            "Train Epoch: 2 \tLoss: 1.548838\n",
            "\n",
            "Testing on task:  1\n",
            "Test set: Average loss: 0.0081, Accuracy: 4964/10000 (50%)\n",
            "\n",
            "Testing on task:  2\n",
            "Test set: Average loss: 0.0037, Accuracy: 7364/10000 (74%)\n",
            "\n",
            "Testing on task:  3\n",
            "Test set: Average loss: 0.0107, Accuracy: 1480/10000 (15%)\n",
            "\n",
            "Avg acc:  46.02666666666667\n",
            "\n",
            "TRAINING on task:  3\n",
            "Train Epoch: 1 \tLoss: 2.182421\n",
            "Train Epoch: 2 \tLoss: 1.767791\n",
            "\n",
            "Testing on task:  1\n",
            "Test set: Average loss: 0.0076, Accuracy: 5591/10000 (56%)\n",
            "\n",
            "Testing on task:  2\n",
            "Test set: Average loss: 0.0083, Accuracy: 2977/10000 (30%)\n",
            "\n",
            "Testing on task:  3\n",
            "Test set: Average loss: 0.0038, Accuracy: 7431/10000 (74%)\n",
            "\n",
            "Avg acc:  53.330000000000005\n",
            "\n"
          ]
        }
      ],
      "source": [
        "ewc_accs = []\n",
        "accs_table[\"EWC\"] = []\n",
        "\n",
        "for id, task in enumerate(tasks):\n",
        "  avg_acc = 0\n",
        "  print(\"TRAINING on task: \", id+1)\n",
        "  accs_table[\"EWC\"].append([])\n",
        "\n",
        "  (x_train, t_train), _ = task\n",
        "\n",
        "  for epoch in range(1, 3):\n",
        "    train_ewc(model, device, id, x_train, t_train, optimizer, epoch)\n",
        "  on_task_update(id, x_train, t_train)\n",
        "\n",
        "  print()\n",
        "  for id_test, task in enumerate(tasks):\n",
        "    print(\"Testing on task: \", id_test+1)\n",
        "    _, (x_test, t_test) = task\n",
        "    acc = test(model, device, x_test, t_test)\n",
        "    accs_table[\"EWC\"][-1].append(acc)\n",
        "    avg_acc = avg_acc + acc\n",
        "\n",
        "  print(\"Avg acc: \", avg_acc / 3)\n",
        "  print()\n",
        "  ewc_accs.append(avg_acc / 3)"
      ]
    },
    {
      "cell_type": "markdown",
      "metadata": {
        "id": "o3SM7U5fwTqV"
      },
      "source": [
        "### Plot Results\n",
        "\n",
        "To conclude, let's summerize our results in a plot."
      ]
    },
    {
      "cell_type": "code",
      "execution_count": null,
      "metadata": {
        "colab": {
          "base_uri": "https://localhost:8080/",
          "height": 1000
        },
        "id": "FYZJl47ZnSdl",
        "outputId": "15c02727-67b8-4df7-fc10-0bd3be2e6952"
      },
      "outputs": [
        {
          "data": {
            "image/png": "[encoded data removed]",
            "text/plain": [
              "<Figure size 1000x1000 with 4 Axes>"
            ]
          },
          "metadata": {},
          "output_type": "display_data"
        }
      ],
      "source": [
        "import pandas as pd\n",
        "import matplotlib.pyplot as plt\n",
        "\n",
        "fig, ax = plt.subplots(ncols=1, nrows=4, figsize=(10,10), sharey=True)\n",
        "\n",
        "for i, strategy in enumerate(accs_table):\n",
        "  index = [\"Train \"+str(i) for i in range(1,4)]\n",
        "  df_dict = {\"Test \"+str(i) : np.asarray(accs_table[strategy])[:,i-1] for i in range(1,4)}\n",
        "  df = pd.DataFrame(df_dict, index=index)\n",
        "  df.plot.bar(rot=0, ax=ax[i])\n",
        "  ax[i].set_title(strategy, fontsize=15)\n",
        "  ax[i].set_ylabel(\"Accuracy (%)\")\n",
        "plt.tight_layout()"
      ]
    },
    {
      "cell_type": "markdown",
      "metadata": {
        "id": "PB5fjoKj_zwE"
      },
      "source": [
        "### How to derive insights using the plot\n",
        "\n",
        "To check for ***plasticity*** we must check if the model is able to learn the current experience. For the first experience, we examine whether the model achieves accuracy greater than 1/n_classes on the test set of the current experience. For subsequent experiences, we assess whether the model, trained on the current experience, not only surpasses the 1/n_classes accuracy threshold on its test set but also outperforms the model trained on the preceding experience.\n",
        "\n",
        "The **BWT** metric is a general metric that considers the model trained on the last experience. On the other hand, when we use the plot, we can see how the model performs on all the trainings that happened before. After training on experience i, we check if the model's performance gets better or worse compared to training i-1 for different experiences j where j<i.\n",
        "\n",
        "\n",
        "The **FWT** metric is a general measure that assesses the model trained after the current experience, tested on the subsequent experience, and compares it with a randomly initialized model. When examining the plot, we can observe how the current training performs across all experiences that follow. After training on the first experience, we compare the current model's performance with a randomly initialized model that predicts classes with an accuracy of 1/n_classes on all test sets for experiences j where j > 1. In addition to this, in subsequent trainings on experiences i, we also evaluate whether the model's performance improves or worsens compared to training i-1, considering all the test sets for experiences j where j > i.\n",
        "\n",
        "______\n",
        "In this specific case:\n",
        "\n",
        "\n",
        "\n",
        "*   Cumulative is the only strategy that does not forget the past tasks. It has also backward transfer (performance on old tasks improves).\n",
        "*   All the strategies have plasticity (performance on the new task always improve significantly and has an accuracy>0.5).\n",
        "*   No strategy has a significative forward transfer (performances on future tasks do not improve significantly).\n",
        "*   Replay performs better than EWC and uses low data w.r.t. Cumulative, which is not appliable in the real world.\n",
        "*  EWC is not able to find a balance between the different tasks."
      ]
    },
    {
      "cell_type": "code",
      "execution_count": null,
      "metadata": {
        "colab": {
          "base_uri": "https://localhost:8080/",
          "height": 478
        },
        "id": "sIQEVVpDwPP5",
        "outputId": "18b37086-36b8-46e3-8da9-508169181aca"
      },
      "outputs": [
        {
          "data": {
            "image/png": "[encoded data removed]",
            "text/plain": [
              "<Figure size 640x480 with 1 Axes>"
            ]
          },
          "metadata": {},
          "output_type": "display_data"
        }
      ],
      "source": [
        "plt.plot([1, 2, 3], naive_accs, '-o', label=\"Naive\")\n",
        "plt.plot([1, 2, 3], cum_accs, '-o', label=\"Cumulative\")\n",
        "plt.plot([1, 2, 3], ewc_accs, '-o', label=\"EWC\")\n",
        "plt.plot([1, 2, 3], repl_accs, '-o', label=\"Replay\")\n",
        "plt.xlabel('Tasks Encountered', fontsize=14)\n",
        "plt.ylabel('Average Accuracy', fontsize=14)\n",
        "plt.title('CL Strategies Comparison on MNIST', fontsize=14);\n",
        "plt.xticks([1, 2, 3])\n",
        "plt.legend(prop={'size': 16});"
      ]
    },
    {
      "cell_type": "markdown",
      "metadata": {
        "id": "hvA1gOCZiOdb"
      },
      "source": [
        "### A_METRIC"
      ]
    },
    {
      "cell_type": "code",
      "execution_count": null,
      "metadata": {
        "colab": {
          "base_uri": "https://localhost:8080/"
        },
        "id": "k1ArWeJkn0QQ",
        "outputId": "ae5558e4-05b8-4dd4-9324-e947888b1f35"
      },
      "outputs": [
        {
          "data": {
            "text/plain": [
              "{'Naive': 54.465,\n",
              " 'Cumulative': 91.22833333333331,\n",
              " 'Replay': 86.66333333333334,\n",
              " 'EWC': 62.80166666666667}"
            ]
          },
          "execution_count": 41,
          "metadata": {},
          "output_type": "execute_result"
        }
      ],
      "source": [
        "a_metric = {}\n",
        "for strategy in accs_table:\n",
        "  a_metric[strategy] = 0\n",
        "  for i in range(0,3):\n",
        "    for j in range(0,i+1):\n",
        "      a_metric[strategy] += accs_table[strategy][i][j]\n",
        "  a_metric[strategy] /= 3*(3+1)/2\n",
        "a_metric"
      ]
    },
    {
      "cell_type": "markdown",
      "metadata": {
        "id": "1w-DUxEVrBTs"
      },
      "source": [
        "## FWT metric"
      ]
    },
    {
      "cell_type": "code",
      "execution_count": null,
      "metadata": {
        "colab": {
          "base_uri": "https://localhost:8080/"
        },
        "id": "C443PdlyrG1Z",
        "outputId": "6e7e3674-0525-40e1-e42f-ff4a536dcb1e"
      },
      "outputs": [
        {
          "data": {
            "text/plain": [
              "{'Naive': -0.0050000000000003375,\n",
              " 'Cumulative': -0.6100000000000003,\n",
              " 'Replay': -1.9899999999999993,\n",
              " 'EWC': 0.03500000000000103}"
            ]
          },
          "execution_count": 47,
          "metadata": {},
          "output_type": "execute_result"
        }
      ],
      "source": [
        "fwt = {}\n",
        "for strategy in accs_table:\n",
        "  fwt[strategy] = 0\n",
        "  for i in range(1,3):\n",
        "    fwt[strategy] += (\n",
        "        accs_table[strategy][i-1][i] -\n",
        "        accs_table_random_model[strategy][i]\n",
        "    )\n",
        "  fwt[strategy] /= 2\n",
        "fwt"
      ]
    },
    {
      "cell_type": "markdown",
      "metadata": {
        "id": "Z4fAoz2AsKos"
      },
      "source": [
        "## BWT metric"
      ]
    },
    {
      "cell_type": "code",
      "execution_count": null,
      "metadata": {
        "colab": {
          "base_uri": "https://localhost:8080/"
        },
        "id": "L9PJPzHmsBPO",
        "outputId": "73655e6d-f61c-4262-d48d-fcb02f7f10b1"
      },
      "outputs": [
        {
          "data": {
            "text/plain": [
              "{'Naive': -60.705,\n",
              " 'Cumulative': 2.1999999999999957,\n",
              " 'Replay': -7.894999999999996,\n",
              " 'EWC': -40.75000000000001}"
            ]
          },
          "execution_count": 48,
          "metadata": {},
          "output_type": "execute_result"
        }
      ],
      "source": [
        "bwt = {}\n",
        "for strategy in accs_table:\n",
        "  bwt[strategy] = 0\n",
        "  for i in range(0,2):\n",
        "    bwt[strategy] += (\n",
        "        accs_table[strategy][-1][i] -\n",
        "        accs_table[strategy][i][i]\n",
        "    )\n",
        "  bwt[strategy] /= 2\n",
        "bwt"
      ]
    }
  ],
  "metadata": {
    "accelerator": "GPU",
    "colab": {
      "provenance": []
    },
    "kernelspec": {
      "display_name": "Python 3",
      "language": "python",
      "name": "python3"
    },
    "language_info": {
      "codemirror_mode": {
        "name": "ipython",
        "version": 3
      },
      "file_extension": ".py",
      "mimetype": "text/x-python",
      "name": "python",
      "nbconvert_exporter": "python",
      "pygments_lexer": "ipython3",
      "version": "3.7.1"
    }
  },
  "nbformat": 4,
  "nbformat_minor": 0
}
